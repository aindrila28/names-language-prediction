{
 "cells": [
  {
   "cell_type": "code",
   "execution_count": 1,
   "id": "38467447",
   "metadata": {},
   "outputs": [],
   "source": [
    "from io import open\n",
    "import glob\n",
    "import os"
   ]
  },
  {
   "cell_type": "code",
   "execution_count": 2,
   "id": "2e172ed9",
   "metadata": {},
   "outputs": [
    {
     "name": "stdout",
     "output_type": "stream",
     "text": [
      "['datasets/data/names\\\\Arabic.txt', 'datasets/data/names\\\\Chinese.txt', 'datasets/data/names\\\\Czech.txt', 'datasets/data/names\\\\Dutch.txt', 'datasets/data/names\\\\English.txt', 'datasets/data/names\\\\French.txt', 'datasets/data/names\\\\German.txt', 'datasets/data/names\\\\Greek.txt', 'datasets/data/names\\\\Irish.txt', 'datasets/data/names\\\\Italian.txt', 'datasets/data/names\\\\Japanese.txt', 'datasets/data/names\\\\Korean.txt', 'datasets/data/names\\\\Polish.txt', 'datasets/data/names\\\\Portuguese.txt', 'datasets/data/names\\\\Russian.txt', 'datasets/data/names\\\\Scottish.txt', 'datasets/data/names\\\\Spanish.txt', 'datasets/data/names\\\\Vietnamese.txt']\n"
     ]
    }
   ],
   "source": [
    "print(glob.glob('datasets/data/names/*.txt'))"
   ]
  },
  {
   "cell_type": "code",
   "execution_count": 3,
   "id": "ada89268",
   "metadata": {},
   "outputs": [
    {
     "data": {
      "text/plain": [
       "\"abcdefghijklmnopqrstuvwxyzABCDEFGHIJKLMNOPQRSTUVWXYZ .,;'\""
      ]
     },
     "execution_count": 3,
     "metadata": {},
     "output_type": "execute_result"
    }
   ],
   "source": [
    "import unicodedata\n",
    "import string\n",
    "\n",
    "all_letters = string.ascii_letters + \" .,;'\"\n",
    "n_letters = len(all_letters)\n",
    "\n",
    "all_letters"
   ]
  },
  {
   "cell_type": "code",
   "execution_count": 4,
   "id": "91397da0",
   "metadata": {},
   "outputs": [
    {
     "data": {
      "text/plain": [
       "57"
      ]
     },
     "execution_count": 4,
     "metadata": {},
     "output_type": "execute_result"
    }
   ],
   "source": [
    "n_letters"
   ]
  },
  {
   "cell_type": "code",
   "execution_count": 5,
   "id": "92e41267",
   "metadata": {},
   "outputs": [],
   "source": [
    "language_names = {}\n",
    "\n",
    "all_languages = []"
   ]
  },
  {
   "cell_type": "code",
   "execution_count": 6,
   "id": "93992c05",
   "metadata": {},
   "outputs": [],
   "source": [
    "def unicode_to_ascii(s):\n",
    "    return ''.join(\n",
    "        c for c in unicodedata.normalize('NFD', s)\n",
    "        if unicodedata.category(c) != 'Mn'\n",
    "        and c in all_letters\n",
    "    )"
   ]
  },
  {
   "cell_type": "code",
   "execution_count": 7,
   "id": "eab8071a",
   "metadata": {},
   "outputs": [
    {
     "name": "stdout",
     "output_type": "stream",
     "text": [
      "Emile\n"
     ]
    }
   ],
   "source": [
    "print(unicode_to_ascii('Émile'))"
   ]
  },
  {
   "cell_type": "code",
   "execution_count": 8,
   "id": "b62dc095",
   "metadata": {},
   "outputs": [],
   "source": [
    "def find_files(path):\n",
    "    return glob.glob(path)"
   ]
  },
  {
   "cell_type": "code",
   "execution_count": 9,
   "id": "f1bac006",
   "metadata": {},
   "outputs": [],
   "source": [
    "total_names = 0\n",
    "\n",
    "for filename in find_files('datasets/data/names/*.txt'):\n",
    "    \n",
    "    language = os.path.splitext(os.path.basename(filename))[0]\n",
    "    all_languages.append(language)\n",
    "    \n",
    "    read_names = open(filename, encoding='utf-8').read().strip().split('\\n')\n",
    "    names = [unicode_to_ascii(line) for line in read_names]\n",
    "    \n",
    "    language_names[language] = names\n",
    "    \n",
    "    total_names += len(names)"
   ]
  },
  {
   "cell_type": "code",
   "execution_count": 10,
   "id": "f75199f5",
   "metadata": {},
   "outputs": [
    {
     "data": {
      "text/plain": [
       "['Arabic',\n",
       " 'Chinese',\n",
       " 'Czech',\n",
       " 'Dutch',\n",
       " 'English',\n",
       " 'French',\n",
       " 'German',\n",
       " 'Greek',\n",
       " 'Irish',\n",
       " 'Italian',\n",
       " 'Japanese',\n",
       " 'Korean',\n",
       " 'Polish',\n",
       " 'Portuguese',\n",
       " 'Russian',\n",
       " 'Scottish',\n",
       " 'Spanish',\n",
       " 'Vietnamese']"
      ]
     },
     "execution_count": 10,
     "metadata": {},
     "output_type": "execute_result"
    }
   ],
   "source": [
    "all_languages"
   ]
  },
  {
   "cell_type": "code",
   "execution_count": 11,
   "id": "281d1b39",
   "metadata": {},
   "outputs": [
    {
     "data": {
      "text/plain": [
       "20074"
      ]
     },
     "execution_count": 11,
     "metadata": {},
     "output_type": "execute_result"
    }
   ],
   "source": [
    "total_names"
   ]
  },
  {
   "cell_type": "code",
   "execution_count": 12,
   "id": "968b3388",
   "metadata": {},
   "outputs": [],
   "source": [
    "import torch"
   ]
  },
  {
   "cell_type": "code",
   "execution_count": 13,
   "id": "c835e68e",
   "metadata": {},
   "outputs": [],
   "source": [
    "def letter_to_tensor(letter):\n",
    "    \n",
    "    tensor = torch.zeros(1, n_letters)\n",
    "    tensor[0][all_letters.find(letter)] = 1\n",
    "    \n",
    "    return tensor"
   ]
  },
  {
   "cell_type": "code",
   "execution_count": 14,
   "id": "fcdcb40b",
   "metadata": {},
   "outputs": [
    {
     "name": "stdout",
     "output_type": "stream",
     "text": [
      "tensor([[0., 0., 0., 0., 0., 0., 0., 0., 0., 0., 0., 0., 0., 0., 0., 0., 0., 0.,\n",
      "         0., 0., 0., 0., 0., 0., 0., 0., 0., 1., 0., 0., 0., 0., 0., 0., 0., 0.,\n",
      "         0., 0., 0., 0., 0., 0., 0., 0., 0., 0., 0., 0., 0., 0., 0., 0., 0., 0.,\n",
      "         0., 0., 0.]])\n"
     ]
    }
   ],
   "source": [
    "print(letter_to_tensor('B'))"
   ]
  },
  {
   "cell_type": "code",
   "execution_count": 15,
   "id": "2a9c3a58",
   "metadata": {},
   "outputs": [],
   "source": [
    "def name_to_tensor(name):\n",
    "    \n",
    "    tensor = torch.zeros(len(name), 1, n_letters)\n",
    "    \n",
    "    for li, letter in enumerate(name):\n",
    "        tensor[li][0][all_letters.find(letter)] = 1\n",
    "        \n",
    "    return tensor"
   ]
  },
  {
   "cell_type": "code",
   "execution_count": 16,
   "id": "b0e653c1",
   "metadata": {},
   "outputs": [
    {
     "data": {
      "text/plain": [
       "torch.Size([4, 1, 57])"
      ]
     },
     "execution_count": 16,
     "metadata": {},
     "output_type": "execute_result"
    }
   ],
   "source": [
    "nt = name_to_tensor('Mary')\n",
    "nt.shape"
   ]
  },
  {
   "cell_type": "code",
   "execution_count": 17,
   "id": "8b9eb3ff",
   "metadata": {},
   "outputs": [],
   "source": [
    "import torch.nn as nn\n",
    "\n",
    "class RNN(nn.Module):\n",
    "    \n",
    "    def __init__(self, input_size, hidden_size, output_size):\n",
    "        super(RNN, self).__init__()\n",
    "        self.hidden_size = hidden_size\n",
    "        self.i2h = nn.Linear(input_size + hidden_size, hidden_size)\n",
    "        self.i2o = nn.Linear(input_size + hidden_size, output_size)\n",
    "        self.softmax = nn.LogSoftmax(dim=1)\n",
    "        \n",
    "    def forward(self, input, hidden):\n",
    "        combined = torch.cat((input, hidden), 1)\n",
    "        hidden = self.i2h(combined)\n",
    "        output = self.i2o(combined)\n",
    "        output = self.softmax(output)\n",
    "        return output, hidden\n",
    "    \n",
    "    def init_hidden(self):\n",
    "        return torch.zeros(1, self.hidden_size)"
   ]
  },
  {
   "cell_type": "code",
   "execution_count": 18,
   "id": "933084ee",
   "metadata": {},
   "outputs": [],
   "source": [
    "n_hidden = 256\n",
    "n_languages = len(all_languages)\n",
    "\n",
    "rnn = RNN(n_letters, n_hidden, n_languages)"
   ]
  },
  {
   "cell_type": "code",
   "execution_count": 19,
   "id": "f49fd5ea",
   "metadata": {},
   "outputs": [
    {
     "name": "stdout",
     "output_type": "stream",
     "text": [
      "output size =  torch.Size([1, 18])\n",
      "next_hidden size =  torch.Size([1, 256])\n"
     ]
    }
   ],
   "source": [
    "#Example of how it works during training\n",
    "inp = letter_to_tensor('R')\n",
    "hidden = torch.zeros(1, n_hidden)\n",
    "output, next_hidden = rnn(inp, hidden)\n",
    "\n",
    "print('output size = ', output.size())\n",
    "print('next_hidden size = ', next_hidden.size())"
   ]
  },
  {
   "cell_type": "code",
   "execution_count": 20,
   "id": "6f161557",
   "metadata": {},
   "outputs": [
    {
     "name": "stdout",
     "output_type": "stream",
     "text": [
      "tensor([[-2.9151, -2.8910, -2.9541, -2.8831, -2.9012, -2.8269, -2.8733, -2.8877,\n",
      "         -2.9804, -2.8843, -2.9052, -2.8848, -2.9482, -2.8789, -2.8214, -2.8899,\n",
      "         -2.8984, -2.8183]], grad_fn=<LogSoftmaxBackward0>)\n"
     ]
    }
   ],
   "source": [
    "inp = name_to_tensor('Ron')\n",
    "hidden = torch.zeros(1, n_hidden)\n",
    "output, next_hidden = rnn(inp[0], hidden)\n",
    "\n",
    "print(output) #Log softmax probability scores"
   ]
  },
  {
   "cell_type": "code",
   "execution_count": 21,
   "id": "e640a8e6",
   "metadata": {},
   "outputs": [
    {
     "name": "stdout",
     "output_type": "stream",
     "text": [
      "torch.Size([1, 256])\n"
     ]
    }
   ],
   "source": [
    "print(next_hidden.shape)"
   ]
  },
  {
   "cell_type": "code",
   "execution_count": 22,
   "id": "e7b007ae",
   "metadata": {},
   "outputs": [],
   "source": [
    "# output from rnn needs to be converted to language name\n",
    "\n",
    "def language_from_output(output):\n",
    "    _, top_i = output.topk(1) #idx of highest probability\n",
    "    language_i = top_i[0].item()\n",
    "    return all_languages[language_i], language_i"
   ]
  },
  {
   "cell_type": "code",
   "execution_count": 23,
   "id": "66327ee0",
   "metadata": {},
   "outputs": [
    {
     "name": "stdout",
     "output_type": "stream",
     "text": [
      "('Vietnamese', 17)\n"
     ]
    }
   ],
   "source": [
    "print(language_from_output(output))"
   ]
  },
  {
   "cell_type": "code",
   "execution_count": 44,
   "id": "d813c385",
   "metadata": {},
   "outputs": [],
   "source": [
    "import random\n",
    "\n",
    "def random_training_example():\n",
    "    random_language_idx = random.randint(0, n_languages - 1)\n",
    "    language = all_languages[random_language_idx]\n",
    "    \n",
    "    random_language_names = language_names[language]\n",
    "    name = random_language_names[random.randint(0, len(random_language_names) - 1)]\n",
    "    \n",
    "    language_tensor = torch.tensor([all_languages.index(language)], dtype=torch.long)\n",
    "    name_tensor = name_to_tensor(name)\n",
    "    \n",
    "    return language, name, language_tensor, name_tensor"
   ]
  },
  {
   "cell_type": "code",
   "execution_count": 45,
   "id": "39643b98",
   "metadata": {},
   "outputs": [
    {
     "name": "stdout",
     "output_type": "stream",
     "text": [
      "name =  Cowie , language =  English\n",
      "name =  Lam , language =  Vietnamese\n",
      "name =  Olivier , language =  French\n",
      "name =  Marino , language =  Italian\n",
      "name =  Victors , language =  French\n"
     ]
    }
   ],
   "source": [
    "for i in range(5):\n",
    "    language, name, language_tensor, name_tensor = random_training_example()\n",
    "    print('name = ', name, ', language = ', language)"
   ]
  },
  {
   "cell_type": "code",
   "execution_count": 46,
   "id": "fecd9ad9",
   "metadata": {},
   "outputs": [],
   "source": [
    "criterion = nn.NLLLoss()\n",
    "learning_rate = 0.005"
   ]
  },
  {
   "cell_type": "code",
   "execution_count": 50,
   "id": "2d78d975",
   "metadata": {},
   "outputs": [],
   "source": [
    "def train(language_tensor, name_tensor):\n",
    "    \n",
    "    hidden = rnn.init_hidden()\n",
    "    \n",
    "    rnn.zero_grad()\n",
    "    \n",
    "    for i in range(name_tensor.size()[0]):\n",
    "        output, hidden = rnn(name_tensor[i], hidden)\n",
    "\n",
    "        \n",
    "    loss = criterion(output, language_tensor)\n",
    "    loss.backward()\n",
    "    \n",
    "    #Can use optimiser\n",
    "    for p in rnn.parameters():\n",
    "        p.data.add_(-learning_rate, p.grad.data)\n",
    "    \n",
    "    return output, loss.item()"
   ]
  },
  {
   "cell_type": "code",
   "execution_count": 48,
   "id": "9a1f22ee",
   "metadata": {},
   "outputs": [],
   "source": [
    "n_epochs = 200000\n",
    "\n",
    "current_loss = 0.0\n",
    "all_losses = []"
   ]
  },
  {
   "cell_type": "code",
   "execution_count": 51,
   "id": "ceb8911c",
   "metadata": {},
   "outputs": [
    {
     "name": "stdout",
     "output_type": "stream",
     "text": [
      "5000 2% 3.2093 Denis / Greek ✘ (French)\n",
      "10000 5% 2.9562 Ochoa / Russian ✘ (Spanish)\n",
      "15000 7% 2.3459 Glatter / French ✘ (Czech)\n",
      "20000 10% 1.1650 Ho / Korean ✔\n",
      "25000 12% 1.4083 Ha / Korean ✘ (Vietnamese)\n",
      "30000 15% 0.9848 Oh  / Korean ✔\n",
      "35000 17% 1.5624 Connolly / Scottish ✘ (Irish)\n",
      "40000 20% 1.9498 Tipping / Scottish ✘ (English)\n",
      "45000 22% 4.8469 Jelen / German ✘ (Polish)\n",
      "50000 25% 0.4151 Romao / Portuguese ✔\n",
      "55000 27% 2.8094 Esyp / Polish ✘ (Russian)\n",
      "60000 30% 0.2347 Touma / Arabic ✔\n",
      "65000 32% 0.0725 Khoury / Arabic ✔\n",
      "70000 35% 0.0615 Shadid / Arabic ✔\n",
      "75000 37% 0.6797 Banderas / Spanish ✔\n",
      "80000 40% 0.9011 Langlais / French ✔\n",
      "85000 42% 1.2807 Quaranta / Italian ✔\n",
      "90000 45% 4.2312 Cernohous / Irish ✘ (Czech)\n",
      "95000 47% 0.5434 Gabler / German ✔\n",
      "100000 50% 2.0474 Korycansky / Russian ✘ (Czech)\n",
      "105000 52% 1.0847 Hughes / Scottish ✔\n",
      "110000 55% 1.8465 Krol / Scottish ✘ (Polish)\n",
      "115000 57% 0.5525 Papageorge / Greek ✔\n",
      "120000 60% 3.7785 Tremble / Scottish ✘ (French)\n",
      "125000 62% 0.1257 Kowalczyk / Polish ✔\n",
      "130000 65% 1.4955 Kopp / German ✔\n",
      "135000 67% 0.9553 Nobunaga / Japanese ✔\n",
      "140000 70% 1.0798 Wegner / German ✔\n",
      "145000 72% 1.2010 Knepp / Dutch ✘ (German)\n",
      "150000 75% 2.3863 Baroch / Irish ✘ (Czech)\n",
      "155000 77% 0.3173 Yudushkin / Russian ✔\n",
      "160000 80% 0.4298 Santana / Portuguese ✔\n",
      "165000 82% 1.0939 Muir / Scottish ✔\n",
      "170000 85% 2.3220 Cormac / Czech ✘ (Irish)\n",
      "175000 87% 0.1613 Holzmann / German ✔\n",
      "180000 90% 1.9311 Oirschot / English ✘ (Dutch)\n",
      "185000 92% 0.7645 Saliba / Arabic ✔\n",
      "190000 95% 0.8352 Wyrick / Polish ✔\n",
      "195000 97% 1.9364 Fleming / German ✘ (Scottish)\n",
      "200000 100% 0.8274 Lapointe / French ✔\n"
     ]
    }
   ],
   "source": [
    "for epoch in range(1, n_epochs + 1):\n",
    "    \n",
    "    language, name, language_tensor, name_tensor = random_training_example()\n",
    "    \n",
    "    output, loss = train(language_tensor, name_tensor)\n",
    "    current_loss += loss\n",
    "    \n",
    "    if epoch % 5000 == 0:\n",
    "        pred, pred_i = language_from_output(output)\n",
    "        correct = '✔' if pred == language else '✘ (%s)' %language\n",
    "        \n",
    "        print('%d %d%% %.4f %s / %s %s' % (epoch,\n",
    "                                          epoch / n_epochs * 100,\n",
    "                                          loss,\n",
    "                                          name,\n",
    "                                          pred,\n",
    "                                          correct))\n",
    "        \n",
    "    if epoch % 1000 == 0:\n",
    "        all_losses.append(current_loss / 1000)\n",
    "        current_loss = 0"
   ]
  },
  {
   "cell_type": "code",
   "execution_count": 52,
   "id": "14404f14",
   "metadata": {},
   "outputs": [
    {
     "data": {
      "image/png": "[encoded data removed]",
      "text/plain": [
       "<Figure size 720x576 with 1 Axes>"
      ]
     },
     "metadata": {
      "needs_background": "light"
     },
     "output_type": "display_data"
    }
   ],
   "source": [
    "import matplotlib.pyplot as plt\n",
    "\n",
    "plt.figure(figsize=(10,8))\n",
    "plt.plot(all_losses)\n",
    "plt.show()"
   ]
  },
  {
   "cell_type": "code",
   "execution_count": 53,
   "id": "284c6ffc",
   "metadata": {},
   "outputs": [],
   "source": [
    "n_pred = 3"
   ]
  },
  {
   "cell_type": "code",
   "execution_count": 58,
   "id": "0161594b",
   "metadata": {},
   "outputs": [],
   "source": [
    "input_name = 'Bukoski'"
   ]
  },
  {
   "cell_type": "code",
   "execution_count": 59,
   "id": "d2498c13",
   "metadata": {},
   "outputs": [
    {
     "name": "stdout",
     "output_type": "stream",
     "text": [
      "(-0.05) Polish\n",
      "(-4.05) Russian\n",
      "(-4.45) Czech\n"
     ]
    }
   ],
   "source": [
    "with torch.no_grad():\n",
    "    \n",
    "    name_tensor = name_to_tensor(input_name)\n",
    "    \n",
    "    hidden = rnn.init_hidden()\n",
    "    for i in range(name_tensor.size()[0]):\n",
    "        output, hidden = rnn(name_tensor[i], hidden)\n",
    "        \n",
    "    topv, topi = output.topk(n_pred, 1, True)\n",
    "    \n",
    "    for i in range(n_pred):\n",
    "        value = topv[0][i].item()\n",
    "        language_idx = topi[0][i].item()\n",
    "        \n",
    "        print('(%.2f) %s' % (value, all_languages[language_idx]))"
   ]
  }
 ],
 "metadata": {
  "kernelspec": {
   "display_name": "Python 3 (ipykernel)",
   "language": "python",
   "name": "python3"
  },
  "language_info": {
   "codemirror_mode": {
    "name": "ipython",
    "version": 3
   },
   "file_extension": ".py",
   "mimetype": "text/x-python",
   "name": "python",
   "nbconvert_exporter": "python",
   "pygments_lexer": "ipython3",
   "version": "3.9.12"
  }
 },
 "nbformat": 4,
 "nbformat_minor": 5
}
